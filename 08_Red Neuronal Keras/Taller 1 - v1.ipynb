{
 "cells": [
  {
   "cell_type": "markdown",
   "id": "45b264c1",
   "metadata": {},
   "source": [
    "# Taller 1"
   ]
  },
  {
   "cell_type": "markdown",
   "id": "757011af",
   "metadata": {},
   "source": [
    "### librerias"
   ]
  },
  {
   "cell_type": "code",
   "execution_count": 1,
   "id": "fdc57f71",
   "metadata": {},
   "outputs": [],
   "source": [
    "import numpy as np\n",
    "import matplotlib.pyplot as plt\n",
    "import pandas as pd"
   ]
  },
  {
   "cell_type": "markdown",
   "id": "bb04c6ad",
   "metadata": {},
   "source": [
    "### importar dataset"
   ]
  },
  {
   "cell_type": "code",
   "execution_count": 2,
   "id": "5e10dbdd",
   "metadata": {},
   "outputs": [],
   "source": [
    "dataset = pd.read_csv('Churn_Modelling.csv')"
   ]
  },
  {
   "cell_type": "markdown",
   "id": "301adafe",
   "metadata": {},
   "source": [
    "### seleccion de variables"
   ]
  },
  {
   "cell_type": "code",
   "execution_count": 3,
   "id": "4d00aff4",
   "metadata": {},
   "outputs": [
    {
     "data": {
      "text/plain": [
       "array([[619, 'France', 'Female', ..., 1, 1, 101348.88],\n",
       "       [608, 'Spain', 'Female', ..., 0, 1, 112542.58],\n",
       "       [502, 'France', 'Female', ..., 1, 0, 113931.57],\n",
       "       ...,\n",
       "       [709, 'France', 'Female', ..., 0, 1, 42085.58],\n",
       "       [772, 'Germany', 'Male', ..., 1, 0, 92888.52],\n",
       "       [792, 'France', 'Female', ..., 1, 0, 38190.78]], dtype=object)"
      ]
     },
     "execution_count": 3,
     "metadata": {},
     "output_type": "execute_result"
    }
   ],
   "source": [
    "X = dataset.iloc[:,3:13].values\n",
    "X"
   ]
  },
  {
   "cell_type": "code",
   "execution_count": 4,
   "id": "be0f132f",
   "metadata": {},
   "outputs": [
    {
     "data": {
      "text/plain": [
       "array([1., 0., 1., ..., 1., 1., 0.], dtype=float32)"
      ]
     },
     "execution_count": 4,
     "metadata": {},
     "output_type": "execute_result"
    }
   ],
   "source": [
    "y = dataset.iloc[:,13].values\n",
    "y = np.array(y,dtype=np.float32)\n",
    "y"
   ]
  },
  {
   "cell_type": "markdown",
   "id": "bf8ccb7d",
   "metadata": {},
   "source": [
    "### codificacion datos categoricos"
   ]
  },
  {
   "cell_type": "code",
   "execution_count": 5,
   "id": "04395637",
   "metadata": {},
   "outputs": [],
   "source": [
    "from sklearn.preprocessing import LabelEncoder, OneHotEncoder\n",
    "from sklearn.compose import ColumnTransformer"
   ]
  },
  {
   "cell_type": "code",
   "execution_count": 6,
   "id": "d4045b74",
   "metadata": {},
   "outputs": [
    {
     "data": {
      "text/plain": [
       "array([[619, 0, 'Female', ..., 1, 1, 101348.88],\n",
       "       [608, 2, 'Female', ..., 0, 1, 112542.58],\n",
       "       [502, 0, 'Female', ..., 1, 0, 113931.57],\n",
       "       ...,\n",
       "       [709, 0, 'Female', ..., 0, 1, 42085.58],\n",
       "       [772, 1, 'Male', ..., 1, 0, 92888.52],\n",
       "       [792, 0, 'Female', ..., 1, 0, 38190.78]], dtype=object)"
      ]
     },
     "execution_count": 6,
     "metadata": {},
     "output_type": "execute_result"
    }
   ],
   "source": [
    "labelencoder_X_1=LabelEncoder()\n",
    "X[:,1]=labelencoder_X_1.fit_transform(X[:,1])\n",
    "X"
   ]
  },
  {
   "cell_type": "code",
   "execution_count": 7,
   "id": "50b3fbad",
   "metadata": {},
   "outputs": [
    {
     "data": {
      "text/plain": [
       "array([[619, 0, 0, ..., 1, 1, 101348.88],\n",
       "       [608, 2, 0, ..., 0, 1, 112542.58],\n",
       "       [502, 0, 0, ..., 1, 0, 113931.57],\n",
       "       ...,\n",
       "       [709, 0, 0, ..., 0, 1, 42085.58],\n",
       "       [772, 1, 1, ..., 1, 0, 92888.52],\n",
       "       [792, 0, 0, ..., 1, 0, 38190.78]], dtype=object)"
      ]
     },
     "execution_count": 7,
     "metadata": {},
     "output_type": "execute_result"
    }
   ],
   "source": [
    "labelencoder_X_2=LabelEncoder()\n",
    "X[:,2]=labelencoder_X_2.fit_transform(X[:,2])\n",
    "X"
   ]
  },
  {
   "cell_type": "markdown",
   "id": "438a89d7",
   "metadata": {},
   "source": [
    "#### creacion de las variables dummies"
   ]
  },
  {
   "cell_type": "markdown",
   "id": "79e31ab6",
   "metadata": {},
   "source": [
    "cuando se cambia una variable categorica en una nueva clase "
   ]
  },
  {
   "cell_type": "code",
   "execution_count": 8,
   "id": "7a63bfd0",
   "metadata": {},
   "outputs": [
    {
     "data": {
      "text/plain": [
       "dtype('float32')"
      ]
     },
     "execution_count": 8,
     "metadata": {},
     "output_type": "execute_result"
    }
   ],
   "source": [
    "transformer = ColumnTransformer(\n",
    "    transformers=[\n",
    "        (\"OneHot\",        # Just a name\n",
    "         OneHotEncoder(), # The transformer class\n",
    "         [1]              # The column(s) to be applied on.\n",
    "         )\n",
    "    ],\n",
    "    remainder='passthrough' # donot apply anything to the remaining columns\n",
    ")\n",
    "X = transformer.fit_transform(X.tolist())\n",
    "X = np.array(X,dtype=np.float32)\n",
    "X.dtype"
   ]
  },
  {
   "cell_type": "markdown",
   "id": "86659cfe",
   "metadata": {},
   "source": [
    "### Division de los datos de prueb a y entrenamiento"
   ]
  },
  {
   "cell_type": "code",
   "execution_count": 8,
   "id": "ba409ee9",
   "metadata": {},
   "outputs": [],
   "source": [
    "from sklearn.model_selection import train_test_split"
   ]
  },
  {
   "cell_type": "code",
   "execution_count": 9,
   "id": "3c6de666",
   "metadata": {},
   "outputs": [],
   "source": [
    "X_train, X_test, y_train, y_test = train_test_split(X,y,test_size=0.2, random_state=0)"
   ]
  },
  {
   "cell_type": "markdown",
   "id": "b7a82468",
   "metadata": {},
   "source": [
    "### Ajustar las escalas"
   ]
  },
  {
   "cell_type": "code",
   "execution_count": 10,
   "id": "fe08c7ac",
   "metadata": {},
   "outputs": [],
   "source": [
    "from sklearn.preprocessing import StandardScaler"
   ]
  },
  {
   "cell_type": "code",
   "execution_count": 11,
   "id": "0e81046c",
   "metadata": {},
   "outputs": [],
   "source": [
    "sc=StandardScaler()\n",
    "X_train=sc.fit_transform(X_train)\n",
    "X_test=sc.transform(X_test)"
   ]
  },
  {
   "cell_type": "markdown",
   "id": "2f52ea34",
   "metadata": {},
   "source": [
    "# Creacion de la Red Neuronal"
   ]
  },
  {
   "cell_type": "markdown",
   "id": "31266923",
   "metadata": {},
   "source": [
    "### importacion de las librerias"
   ]
  },
  {
   "cell_type": "code",
   "execution_count": 12,
   "id": "ba304541",
   "metadata": {},
   "outputs": [
    {
     "name": "stderr",
     "output_type": "stream",
     "text": [
      "2022-03-27 13:48:08.397711: I tensorflow/stream_executor/platform/default/dso_loader.cc:49] Successfully opened dynamic library libcudart.so.10.1\n"
     ]
    }
   ],
   "source": [
    "import keras\n",
    "from keras.models import Sequential #arquitectura\n",
    "from keras.layers import Dense      #capa de la red  "
   ]
  },
  {
   "cell_type": "markdown",
   "id": "5095562e",
   "metadata": {},
   "source": [
    "### inicialziacion de la red neuronal"
   ]
  },
  {
   "cell_type": "code",
   "execution_count": 25,
   "id": "eb45a5a6",
   "metadata": {},
   "outputs": [],
   "source": [
    "red = Sequential()"
   ]
  },
  {
   "cell_type": "markdown",
   "id": "0a707523",
   "metadata": {},
   "source": [
    "### capa de entrada"
   ]
  },
  {
   "cell_type": "markdown",
   "id": "29669f4e",
   "metadata": {},
   "source": [
    "tenemos 11 variables de entrada y una de salida (si,no)\n",
    "ademas de construiran 2 capas ocultas de 12 neuronas cada una\n"
   ]
  },
  {
   "cell_type": "code",
   "execution_count": 26,
   "id": "add069bf",
   "metadata": {},
   "outputs": [],
   "source": [
    "capa_1=Dense(24,input_dim=10,use_bias=1,activation='relu')\n",
    "capa_2=Dense(24,use_bias=1,activation='relu')\n",
    "capa_3=Dense(1,use_bias=1,activation='sigmoid')"
   ]
  },
  {
   "cell_type": "code",
   "execution_count": 27,
   "id": "0713b6b4",
   "metadata": {},
   "outputs": [],
   "source": [
    "red.add(capa_1)\n",
    "red.add(capa_2)\n",
    "red.add(capa_3)"
   ]
  },
  {
   "cell_type": "markdown",
   "id": "e43b8e5a",
   "metadata": {},
   "source": [
    "### activacion"
   ]
  },
  {
   "cell_type": "code",
   "execution_count": 28,
   "id": "523d619c",
   "metadata": {},
   "outputs": [],
   "source": [
    "red.compile(\n",
    "    optimizer='adam',\n",
    "    loss='binary_crossentropy', \n",
    "    metrics=['accuracy']\n",
    ")"
   ]
  },
  {
   "cell_type": "code",
   "execution_count": 29,
   "id": "97372e4e",
   "metadata": {},
   "outputs": [
    {
     "data": {
      "text/plain": [
       "(8000, 10)"
      ]
     },
     "execution_count": 29,
     "metadata": {},
     "output_type": "execute_result"
    }
   ],
   "source": [
    "np.shape(X_train)"
   ]
  },
  {
   "cell_type": "markdown",
   "id": "b99f5dba",
   "metadata": {},
   "source": [
    "### entrenamiento"
   ]
  },
  {
   "cell_type": "code",
   "execution_count": 30,
   "id": "d6d87cd7",
   "metadata": {},
   "outputs": [
    {
     "name": "stdout",
     "output_type": "stream",
     "text": [
      "Epoch 1/10\n",
      "400/400 [==============================] - 0s 576us/step - loss: 0.5184 - accuracy: 0.7746\n",
      "Epoch 2/10\n",
      "400/400 [==============================] - 0s 472us/step - loss: 0.4048 - accuracy: 0.8305\n",
      "Epoch 3/10\n",
      "400/400 [==============================] - 0s 436us/step - loss: 0.3700 - accuracy: 0.8486\n",
      "Epoch 4/10\n",
      "400/400 [==============================] - 0s 715us/step - loss: 0.3671 - accuracy: 0.8457\n",
      "Epoch 5/10\n",
      "400/400 [==============================] - 0s 501us/step - loss: 0.3467 - accuracy: 0.8549\n",
      "Epoch 6/10\n",
      "400/400 [==============================] - 0s 463us/step - loss: 0.3454 - accuracy: 0.8566\n",
      "Epoch 7/10\n",
      "400/400 [==============================] - 0s 436us/step - loss: 0.3426 - accuracy: 0.8613\n",
      "Epoch 8/10\n",
      "400/400 [==============================] - 0s 472us/step - loss: 0.3338 - accuracy: 0.8603\n",
      "Epoch 9/10\n",
      "400/400 [==============================] - 0s 455us/step - loss: 0.3316 - accuracy: 0.8650\n",
      "Epoch 10/10\n",
      "400/400 [==============================] - 0s 485us/step - loss: 0.3261 - accuracy: 0.8653\n",
      "Epoch 1/10\n",
      "400/400 [==============================] - 0s 548us/step - loss: 0.3337 - accuracy: 0.8630\n",
      "Epoch 2/10\n",
      "400/400 [==============================] - 0s 455us/step - loss: 0.3325 - accuracy: 0.8633\n",
      "Epoch 3/10\n",
      "400/400 [==============================] - 0s 471us/step - loss: 0.3314 - accuracy: 0.8616\n",
      "Epoch 4/10\n",
      "400/400 [==============================] - 0s 446us/step - loss: 0.3298 - accuracy: 0.8636\n",
      "Epoch 5/10\n",
      "400/400 [==============================] - 0s 443us/step - loss: 0.3290 - accuracy: 0.8641\n",
      "Epoch 6/10\n",
      "400/400 [==============================] - 0s 467us/step - loss: 0.3278 - accuracy: 0.8640\n",
      "Epoch 7/10\n",
      "400/400 [==============================] - 0s 448us/step - loss: 0.3268 - accuracy: 0.8644\n",
      "Epoch 8/10\n",
      "400/400 [==============================] - 0s 466us/step - loss: 0.3257 - accuracy: 0.8649\n",
      "Epoch 9/10\n",
      "400/400 [==============================] - 0s 447us/step - loss: 0.3254 - accuracy: 0.8654\n",
      "Epoch 10/10\n",
      "400/400 [==============================] - 0s 452us/step - loss: 0.3250 - accuracy: 0.8649\n",
      "Epoch 1/10\n",
      "400/400 [==============================] - 0s 458us/step - loss: 0.3238 - accuracy: 0.8671\n",
      "Epoch 2/10\n",
      "400/400 [==============================] - 0s 449us/step - loss: 0.3227 - accuracy: 0.8662\n",
      "Epoch 3/10\n",
      "400/400 [==============================] - 0s 463us/step - loss: 0.3219 - accuracy: 0.8639\n",
      "Epoch 4/10\n",
      "400/400 [==============================] - 0s 474us/step - loss: 0.3212 - accuracy: 0.8666\n",
      "Epoch 5/10\n",
      "400/400 [==============================] - 0s 455us/step - loss: 0.3204 - accuracy: 0.8689\n",
      "Epoch 6/10\n",
      "400/400 [==============================] - 0s 461us/step - loss: 0.3196 - accuracy: 0.8650\n",
      "Epoch 7/10\n",
      "400/400 [==============================] - 0s 452us/step - loss: 0.3192 - accuracy: 0.8679\n",
      "Epoch 8/10\n",
      "400/400 [==============================] - 0s 460us/step - loss: 0.3185 - accuracy: 0.8679\n",
      "Epoch 9/10\n",
      "400/400 [==============================] - 0s 443us/step - loss: 0.3184 - accuracy: 0.8691\n",
      "Epoch 10/10\n",
      "400/400 [==============================] - 0s 445us/step - loss: 0.3182 - accuracy: 0.8680\n",
      "Epoch 1/10\n",
      "400/400 [==============================] - 0s 467us/step - loss: 0.3176 - accuracy: 0.8659\n",
      "Epoch 2/10\n",
      "400/400 [==============================] - 0s 441us/step - loss: 0.3163 - accuracy: 0.8683\n",
      "Epoch 3/10\n",
      "400/400 [==============================] - 0s 490us/step - loss: 0.3168 - accuracy: 0.8694\n",
      "Epoch 4/10\n",
      "400/400 [==============================] - 0s 460us/step - loss: 0.3154 - accuracy: 0.8681\n",
      "Epoch 5/10\n",
      "400/400 [==============================] - 0s 447us/step - loss: 0.3152 - accuracy: 0.8685\n",
      "Epoch 6/10\n",
      "400/400 [==============================] - 0s 467us/step - loss: 0.3151 - accuracy: 0.8685\n",
      "Epoch 7/10\n",
      "400/400 [==============================] - 0s 444us/step - loss: 0.3151 - accuracy: 0.8686\n",
      "Epoch 8/10\n",
      "400/400 [==============================] - 0s 465us/step - loss: 0.3141 - accuracy: 0.8694\n",
      "Epoch 9/10\n",
      "400/400 [==============================] - 0s 442us/step - loss: 0.3145 - accuracy: 0.8684\n",
      "Epoch 10/10\n",
      "400/400 [==============================] - 0s 475us/step - loss: 0.3122 - accuracy: 0.8708\n",
      "Epoch 1/10\n",
      "400/400 [==============================] - 0s 476us/step - loss: 0.3128 - accuracy: 0.8699\n",
      "Epoch 2/10\n",
      "400/400 [==============================] - 0s 453us/step - loss: 0.3123 - accuracy: 0.8705\n",
      "Epoch 3/10\n",
      "400/400 [==============================] - 0s 456us/step - loss: 0.3118 - accuracy: 0.8704\n",
      "Epoch 4/10\n",
      "400/400 [==============================] - 0s 542us/step - loss: 0.3121 - accuracy: 0.8687\n",
      "Epoch 5/10\n",
      "400/400 [==============================] - 0s 522us/step - loss: 0.3112 - accuracy: 0.8711\n",
      "Epoch 6/10\n",
      "400/400 [==============================] - 0s 489us/step - loss: 0.3108 - accuracy: 0.8708\n",
      "Epoch 7/10\n",
      "400/400 [==============================] - 0s 575us/step - loss: 0.3106 - accuracy: 0.8711\n",
      "Epoch 8/10\n",
      "400/400 [==============================] - 0s 479us/step - loss: 0.3100 - accuracy: 0.8714\n",
      "Epoch 9/10\n",
      "400/400 [==============================] - 0s 466us/step - loss: 0.3100 - accuracy: 0.8711\n",
      "Epoch 10/10\n",
      "400/400 [==============================] - 0s 572us/step - loss: 0.3092 - accuracy: 0.8714\n",
      "Epoch 1/10\n",
      "400/400 [==============================] - 0s 463us/step - loss: 0.3093 - accuracy: 0.8715\n",
      "Epoch 2/10\n",
      "400/400 [==============================] - 0s 452us/step - loss: 0.3085 - accuracy: 0.8720\n",
      "Epoch 3/10\n",
      "400/400 [==============================] - 0s 449us/step - loss: 0.3087 - accuracy: 0.8729\n",
      "Epoch 4/10\n",
      "400/400 [==============================] - 0s 666us/step - loss: 0.3085 - accuracy: 0.8711\n",
      "Epoch 5/10\n",
      "400/400 [==============================] - 0s 479us/step - loss: 0.3081 - accuracy: 0.8721\n",
      "Epoch 6/10\n",
      "400/400 [==============================] - 0s 457us/step - loss: 0.3074 - accuracy: 0.8720\n",
      "Epoch 7/10\n",
      "400/400 [==============================] - 0s 466us/step - loss: 0.3068 - accuracy: 0.8716\n",
      "Epoch 8/10\n",
      "400/400 [==============================] - 0s 445us/step - loss: 0.3071 - accuracy: 0.8711\n",
      "Epoch 9/10\n",
      "400/400 [==============================] - 0s 454us/step - loss: 0.3072 - accuracy: 0.8739\n",
      "Epoch 10/10\n",
      "400/400 [==============================] - 0s 456us/step - loss: 0.3062 - accuracy: 0.8721\n",
      "Epoch 1/10\n",
      "400/400 [==============================] - 0s 463us/step - loss: 0.3060 - accuracy: 0.8726\n",
      "Epoch 2/10\n",
      "400/400 [==============================] - 0s 449us/step - loss: 0.3050 - accuracy: 0.8740\n",
      "Epoch 3/10\n",
      "400/400 [==============================] - 0s 449us/step - loss: 0.3060 - accuracy: 0.8724\n",
      "Epoch 4/10\n",
      "400/400 [==============================] - 0s 479us/step - loss: 0.3055 - accuracy: 0.8723\n",
      "Epoch 5/10\n",
      "400/400 [==============================] - 0s 437us/step - loss: 0.3049 - accuracy: 0.8725\n",
      "Epoch 6/10\n",
      "400/400 [==============================] - 0s 477us/step - loss: 0.3042 - accuracy: 0.8745\n",
      "Epoch 7/10\n",
      "400/400 [==============================] - 0s 445us/step - loss: 0.3041 - accuracy: 0.8740\n",
      "Epoch 8/10\n",
      "400/400 [==============================] - 0s 468us/step - loss: 0.3035 - accuracy: 0.8751\n",
      "Epoch 9/10\n",
      "400/400 [==============================] - 0s 461us/step - loss: 0.3033 - accuracy: 0.8750\n",
      "Epoch 10/10\n",
      "400/400 [==============================] - 0s 455us/step - loss: 0.3021 - accuracy: 0.8765\n",
      "Epoch 1/10\n",
      "400/400 [==============================] - 0s 472us/step - loss: 0.3015 - accuracy: 0.8741\n",
      "Epoch 2/10\n",
      "400/400 [==============================] - 0s 456us/step - loss: 0.3015 - accuracy: 0.8746\n",
      "Epoch 3/10\n",
      "400/400 [==============================] - 0s 462us/step - loss: 0.3018 - accuracy: 0.8758\n",
      "Epoch 4/10\n",
      "400/400 [==============================] - 0s 463us/step - loss: 0.3006 - accuracy: 0.8740\n",
      "Epoch 5/10\n",
      "400/400 [==============================] - 0s 459us/step - loss: 0.3008 - accuracy: 0.8739\n",
      "Epoch 6/10\n",
      "400/400 [==============================] - 0s 448us/step - loss: 0.2999 - accuracy: 0.8769\n",
      "Epoch 7/10\n",
      "400/400 [==============================] - 0s 448us/step - loss: 0.2999 - accuracy: 0.8744\n",
      "Epoch 8/10\n",
      "400/400 [==============================] - 0s 457us/step - loss: 0.3000 - accuracy: 0.8769\n",
      "Epoch 9/10\n",
      "400/400 [==============================] - 0s 447us/step - loss: 0.2989 - accuracy: 0.8754\n",
      "Epoch 10/10\n",
      "400/400 [==============================] - 0s 469us/step - loss: 0.2992 - accuracy: 0.8761\n",
      "1.91 s ± 64.8 ms per loop (mean ± std. dev. of 7 runs, 1 loop each)\n"
     ]
    }
   ],
   "source": [
    "%%timeit \n",
    "red.fit(X_train,\n",
    "        y_train,\n",
    "        epochs=10,\n",
    "        batch_size=20\n",
    "       )"
   ]
  },
  {
   "cell_type": "markdown",
   "id": "5dc27877",
   "metadata": {},
   "source": [
    "### predicción"
   ]
  },
  {
   "cell_type": "code",
   "execution_count": 31,
   "id": "77935661",
   "metadata": {},
   "outputs": [
    {
     "data": {
      "text/plain": [
       "array([[0.2510985 ],\n",
       "       [0.19416219],\n",
       "       [0.17340502],\n",
       "       ...,\n",
       "       [0.2646865 ],\n",
       "       [0.2585357 ],\n",
       "       [0.22510865]], dtype=float32)"
      ]
     },
     "execution_count": 31,
     "metadata": {},
     "output_type": "execute_result"
    }
   ],
   "source": [
    "y_pred=red.predict(X_test)\n",
    "y_pred"
   ]
  },
  {
   "cell_type": "code",
   "execution_count": 32,
   "id": "22282edd",
   "metadata": {},
   "outputs": [
    {
     "data": {
      "text/plain": [
       "array([[0.],\n",
       "       [0.],\n",
       "       [0.],\n",
       "       ...,\n",
       "       [0.],\n",
       "       [0.],\n",
       "       [0.]], dtype=float32)"
      ]
     },
     "execution_count": 32,
     "metadata": {},
     "output_type": "execute_result"
    }
   ],
   "source": [
    "y_pred = np.round(y_pred)\n",
    "y_pred"
   ]
  },
  {
   "cell_type": "markdown",
   "id": "a577af88",
   "metadata": {},
   "source": [
    "### comparacion de resultados"
   ]
  },
  {
   "cell_type": "code",
   "execution_count": 33,
   "id": "847b208e",
   "metadata": {},
   "outputs": [],
   "source": [
    "from sklearn.metrics import confusion_matrix\n",
    "cm= confusion_matrix(y_test,y_pred)"
   ]
  },
  {
   "cell_type": "code",
   "execution_count": 34,
   "id": "babd37aa",
   "metadata": {},
   "outputs": [
    {
     "data": {
      "text/plain": [
       "array([[1471,  124],\n",
       "       [ 178,  227]])"
      ]
     },
     "execution_count": 34,
     "metadata": {},
     "output_type": "execute_result"
    }
   ],
   "source": [
    "cm"
   ]
  },
  {
   "cell_type": "markdown",
   "id": "87e05c49",
   "metadata": {},
   "source": [
    "array([[1506,   89],\n",
    "       [ 189,  216]], dtype=int64)"
   ]
  },
  {
   "cell_type": "code",
   "execution_count": 35,
   "id": "cce86003",
   "metadata": {},
   "outputs": [
    {
     "name": "stdout",
     "output_type": "stream",
     "text": [
      "250/250 [==============================] - 0s 351us/step - loss: 0.2960 - accuracy: 0.8785\n",
      "\n",
      "accuracy: 87.85%\n"
     ]
    }
   ],
   "source": [
    "scores = red.evaluate(X_train, y_train)\n",
    "print(\"\\n%s: %.2f%%\" % (red.metrics_names[1], scores[1]*100))"
   ]
  },
  {
   "cell_type": "code",
   "execution_count": 36,
   "id": "910fada3",
   "metadata": {},
   "outputs": [
    {
     "name": "stdout",
     "output_type": "stream",
     "text": [
      "63/63 [==============================] - 0s 684us/step - loss: 0.3529 - accuracy: 0.8490\n",
      "\n",
      "accuracy: 84.90%\n"
     ]
    }
   ],
   "source": [
    "scores = red.evaluate(X_test, y_test)\n",
    "print(\"\\n%s: %.2f%%\" % (red.metrics_names[1], scores[1]*100))"
   ]
  },
  {
   "cell_type": "code",
   "execution_count": 37,
   "id": "5428eac7",
   "metadata": {},
   "outputs": [
    {
     "name": "stdout",
     "output_type": "stream",
     "text": [
      "              precision    recall  f1-score   support\n",
      "\n",
      "         0.0       0.92      0.89      0.91      1649\n",
      "         1.0       0.56      0.65      0.60       351\n",
      "\n",
      "    accuracy                           0.85      2000\n",
      "   macro avg       0.74      0.77      0.75      2000\n",
      "weighted avg       0.86      0.85      0.85      2000\n",
      "\n"
     ]
    }
   ],
   "source": [
    "from sklearn.metrics import classification_report\n",
    "print(classification_report(y_pred,y_test))"
   ]
  },
  {
   "cell_type": "code",
   "execution_count": null,
   "id": "2f1d4258",
   "metadata": {},
   "outputs": [],
   "source": []
  }
 ],
 "metadata": {
  "kernelspec": {
   "display_name": "Python 3 (ipykernel)",
   "language": "python",
   "name": "python3"
  },
  "language_info": {
   "codemirror_mode": {
    "name": "ipython",
    "version": 3
   },
   "file_extension": ".py",
   "mimetype": "text/x-python",
   "name": "python",
   "nbconvert_exporter": "python",
   "pygments_lexer": "ipython3",
   "version": "3.9.7"
  }
 },
 "nbformat": 4,
 "nbformat_minor": 5
}
