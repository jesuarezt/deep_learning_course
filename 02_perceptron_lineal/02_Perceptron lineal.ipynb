{
 "cells": [
  {
   "cell_type": "markdown",
   "id": "953a0d52",
   "metadata": {},
   "source": [
    "# Perceptron (una entrada -  funcion de activacion lineal)\n",
    "## Regresión lineal "
   ]
  },
  {
   "cell_type": "code",
   "execution_count": 1,
   "id": "80e503af",
   "metadata": {},
   "outputs": [],
   "source": [
    "import pandas as pd\n",
    "import numpy as np\n",
    "import matplotlib.pyplot as plt"
   ]
  },
  {
   "cell_type": "code",
   "execution_count": 2,
   "id": "cdf14308",
   "metadata": {},
   "outputs": [],
   "source": [
    "def entrenar(b,fac_ap,w1,x1,y,n_muestras,iteraciones):\n",
    "    cont=0\n",
    "    errores = True\n",
    "    while (errores and cont<iteraciones) :\n",
    "        errores = False\n",
    "        for i in range(n_muestras):\n",
    "            z = (x1[i] * w1)+ b # calculamos z\n",
    "            \"\"\"\n",
    "            if z >= 0:\n",
    "                z = 1\n",
    "            else:\n",
    "                z = 0\n",
    "            \"\"\"\n",
    "            if z != y[i]:\n",
    "                errores = True\n",
    "                # calcular errores\n",
    "                error = (y[i] - z)\n",
    "                # ajustar sesgo\n",
    "                b = b + ((fac_ap * error))\n",
    "                # ajustar pesos\n",
    "                w1 = w1 + (x1[i] * error * fac_ap)\n",
    "        cont=cont+1\n",
    "    return w1, b, cont"
   ]
  },
  {
   "cell_type": "code",
   "execution_count": 5,
   "id": "3ded4adc",
   "metadata": {},
   "outputs": [
    {
     "name": "stdout",
     "output_type": "stream",
     "text": [
      "w1 =  2.3355239500475644\n",
      "b = 0.2674285430850408\n",
      "i = 10000\n"
     ]
    }
   ],
   "source": [
    "# Leer archivo excel \n",
    "\n",
    "b = 1\n",
    "fac_ap = 0.05\n",
    "w1 = 2\n",
    "\n",
    "\"\"\"\n",
    "archivo_excel = pd.read_excel(\"./perceptron_data_lineal.xlsx\")\n",
    "x1 = archivo_excel[\"x1\"]\n",
    "y = archivo_excel[\"y\"]\n",
    "\"\"\"\n",
    "\n",
    "#\"\"\"\n",
    "np.random.seed(42)\n",
    "x1 = np.random.rand(10)\n",
    "y = 2*x1 + 0.5 + (np.random.rand(10)-0.5)*0.5\n",
    "#\"\"\"\n",
    "\n",
    "\n",
    "\n",
    "n_muestras = len(y)\n",
    "iteraciones=10000\n",
    "w1, b, i = entrenar(b,fac_ap,w1,x1,y,n_muestras,iteraciones)\n",
    "print (\"w1 = \", w1)\n",
    "print (\"b =\", b)\n",
    "print (\"i =\", i )"
   ]
  },
  {
   "cell_type": "markdown",
   "id": "0436e24f",
   "metadata": {},
   "source": [
    "# Gráfico de los resultados"
   ]
  },
  {
   "cell_type": "code",
   "execution_count": 6,
   "id": "bfd9b655",
   "metadata": {},
   "outputs": [],
   "source": [
    "y_h=w1*x1+b\n"
   ]
  },
  {
   "cell_type": "code",
   "execution_count": 7,
   "id": "06ebaf99",
   "metadata": {},
   "outputs": [],
   "source": [
    "y_p=0.5+2*x1"
   ]
  },
  {
   "cell_type": "code",
   "execution_count": 8,
   "id": "856835ad",
   "metadata": {},
   "outputs": [
    {
     "data": {
      "text/plain": [
       "Text(0.5, 1.0, 'valor actual vs predicción')"
      ]
     },
     "execution_count": 8,
     "metadata": {},
     "output_type": "execute_result"
    },
    {
     "data": {
      "image/png": "[encoded data removed]",
      "text/plain": [
       "<Figure size 432x288 with 1 Axes>"
      ]
     },
     "metadata": {
      "needs_background": "light"
     },
     "output_type": "display_data"
    }
   ],
   "source": [
    "%matplotlib inline\n",
    "plt.plot(x1,y,\"ro\")\n",
    "plt.plot(x1,y_p,\"b\")\n",
    "plt.plot(x1,y_h,\"g\")\n",
    "plt.title(\"valor actual vs predicción\")"
   ]
  },
  {
   "cell_type": "code",
   "execution_count": null,
   "id": "a444e916",
   "metadata": {},
   "outputs": [],
   "source": []
  }
 ],
 "metadata": {
  "kernelspec": {
   "display_name": "Python 3 (ipykernel)",
   "language": "python",
   "name": "python3"
  },
  "language_info": {
   "codemirror_mode": {
    "name": "ipython",
    "version": 3
   },
   "file_extension": ".py",
   "mimetype": "text/x-python",
   "name": "python",
   "nbconvert_exporter": "python",
   "pygments_lexer": "ipython3",
   "version": "3.9.7"
  }
 },
 "nbformat": 4,
 "nbformat_minor": 5
}
