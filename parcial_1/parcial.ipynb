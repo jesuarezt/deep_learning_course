{
 "cells": [
  {
   "cell_type": "markdown",
   "id": "c73c4546-67b6-44c5-9176-5c50dccfa2b1",
   "metadata": {},
   "source": [
    "# Parcial 1\n",
    "\n",
    "\n",
    "### **Profesor**  Julio Omar Palacio Niño\n",
    "### **Estudiante** Jesús Ernesto Suárez Triana"
   ]
  },
  {
   "cell_type": "markdown",
   "id": "ac3690f4-150c-4bd2-a826-aee678730fb2",
   "metadata": {},
   "source": [
    "## 1) Preguntas de selección multiple (5 puntos)\n",
    "\n",
    "De las siguientes sentencias, ¿Cuáles son afirmativas? (puede existir mas de una)\n",
    "\n",
    "a) la capacidad de aprendizaje de una red neuronal depende de la aleatoreidad de los\n",
    "pesos   \n",
    "\n",
    "b) la capacidad de aprendizaje de una red neuronal depende de la variedad y\n",
    "cantidad de ejemplos  \n",
    "\n",
    "c) las redes neuronales son sistemas que aprenden por medio de los ejemplos  \n",
    "\n",
    "d) el problema del sobre-aprendizaje se prodocue únicamente el los modelos basados\n",
    "en redes neuronales  \n",
    "\n",
    "\n",
    "**Respuestas:**\n",
    "\n",
    "a) False\n",
    "b) True\n",
    "c) True\n",
    "d) False\n",
    "\n"
   ]
  },
  {
   "cell_type": "markdown",
   "id": "7e474635-b789-4cb5-90ab-da85551ff6c9",
   "metadata": {},
   "source": [
    "## 2) Preguntas de selección multiple (5 puntos)\n",
    "\n",
    "De las siguientes sentencias, ¿Cuál es afirmativa?\n",
    "\n",
    "a) En una red multicapa el ajuste que se realiza en la ultima capa se realiza por medio\n",
    "del delta de la neurona de destino y la activación de la neurona de origen\n",
    "\n",
    "b) El ajuste de los pesos de la primera capa de entrada en una red neuronal multicapa\n",
    "se realiza utilizando únicamente el error medido en la salida de toda la red y la\n",
    "activación de la neurona oculta.\n",
    "\n",
    "c) En una red multicapa el ajuste de los pesos de la capa de entrada a la primera capa\n",
    "oculta se realiza utilizando el delta de la neurona oculta y todas las activaciones de\n",
    "las neuronas de entrada. \n",
    "\n",
    "**Respuestas:**\n",
    "\n",
    "\n",
    "\n",
    "b) El ajuste de los pesos de la primera capa de entrada en una red neuronal multicapa\n",
    "se realiza utilizando únicamente el error medido en la salida de toda la red y la\n",
    "activación de la neurona oculta.\n",
    "\n"
   ]
  },
  {
   "cell_type": "markdown",
   "id": "073ef380-83a8-47da-8ec9-79b2e4b3a6fd",
   "metadata": {},
   "source": [
    "## 3) Responda las siguientes preguntas (15 puntos)\n",
    "\n",
    "- ¿En que consiste el aprendizaje por medio de una red neuronal?.\n",
    "- ¿Qué es el sobreaprendizaje de una red neuronal?\n",
    "- ¿Cúal es el significado de los pesos y el sesgo en un perceptrón simple?\n",
    "\n",
    "Respuestas:\n",
    "\n",
    "- ¿En que consiste el aprendizaje por medio de una red neuronal?.\n",
    "\n",
    "El aprendizaje por medio de una red neuronal intenta simular el aprendizaje de una neurona, que basicamente se reduce a si la neurona se exita o no. \n",
    "Para el contexto de aprendizaje profundo, dado un dataset, construimos una red, para que ella se \"excite\" cuando los datos se parezcan al fenomeno de estudio o no se exciten en caso contrario. \n",
    "\n",
    "Esto se puede relacionar a los temas de clasificación, regresión, detección, entre otros. donde excitar es activar la neurona a un fenomeno (presencia de un virus, clasificación de grupos, etc).\n",
    "\n",
    "- ¿Qué es el sobreaprendizaje de una red neuronal?\n",
    "\n",
    "Es un problema en los procesos de entrenamiento, cuando la red neuronal reproduce muy bien los datos de salida para muestra de Entrenamiento. Esto puede producir que cuando probemos con dataset de test, el error sea grande ya que la red aprendio muy bien solo con el conjunto de entrenamiento. \n",
    "\n",
    "- ¿Cúal es el significado de los pesos y el sesgo en un perceptrón simple?\n",
    "\n",
    "Consideremos un fenomeno que esta compuesto para cada individuo i por caracteristicas  x_1, ... ,x_n (n>=1) y una respuesta para cada registro y_i\n",
    "Los pesos: Corresponden al valor númerico w_j (1<= j <= n) que permiten dar la relevancia de la caracteristica x_j para activar (o excitar) la neurona.\n",
    "El sesgo:  El sesgo, es ese valor númerico que controla que tan predispuesta esta la neurona a activarse (excitarse) independientemente del valor de los pesos. \n",
    "\n",
    "\n"
   ]
  },
  {
   "cell_type": "markdown",
   "id": "9ac6f695-45ff-4bfa-8cf7-663ef30f0ca7",
   "metadata": {},
   "source": [
    "## 4) Responda las siguientes preguntas (15 puntos)\n",
    "• Indique 3 metricas para evaluar la calidad de una red neuronal cuando resuleve un\n",
    "problema de clasificación\n",
    "• Indique dos técnicas de preprocesamiento sobre los datos antes de emplearlos en el\n",
    "proceso de entrenamiento de una red neuronal\n",
    "• ¿Por qué en el proceso de aprendizaje de una red multicapa puede detenerse al\n",
    "encontrar un mínimo local?\n",
    "\n",
    "\n",
    "\n",
    "Respuestas\n",
    "\n",
    "• Indique 3 metricas para evaluar la calidad de una red neuronal cuando resuleve un\n",
    "problema de clasificación\n",
    "\n",
    "- Precisión  TP/(TP+FP)\n",
    "- recall     TP + (TP+FN)\n",
    "- f1-Score     2*(Recall*presision) /(recall + precision)\n",
    "\n",
    "• Indique dos técnicas de preprocesamiento sobre los datos antes de emplearlos en el\n",
    "proceso de entrenamiento de una red neuronal.\n",
    "\n",
    "- Eliminar Duplicados.\n",
    "- Creación de nuevas Features.\n",
    "- Codificiación de datos categoricos\n",
    "- División de datos de prueba y de entrenamiento\n",
    "\n",
    "\n",
    "• ¿Por qué en el proceso de aprendizaje de una red multicapa puede detenerse al\n",
    "encontrar un mínimo local?\n",
    "\n",
    "Por lo general, cuando entrenamos una red multicapa, esto lo realizamos con procesos de batch_size y epoch, que permiten trabajar fragmentos de volumen de datos (Puntos en el dominio de estudio) y diferentes iteraciones para calibrar la red. \n",
    "\n",
    "En el caso de que a diferentes epocas o diferentes batch, no haya variación en las metricas de medición del modelo (Como el accuracy para un modelo de clasificación o RMS para modelos de regresión) podriamos pausar el modelo ya que encontramos un mínimo local, y puede pasar que el dominio de estudio tenga varios minimos locales y no se tengan avance, por la metodologia de optimización que elijamos (COmo gradiente descendiente estocastico). "
   ]
  },
  {
   "cell_type": "markdown",
   "id": "651935bb-694f-43b3-b408-6f0907757ef3",
   "metadata": {},
   "source": [
    "# Problemas"
   ]
  },
  {
   "cell_type": "markdown",
   "id": "63ade4d3-2b3c-4cb6-ae97-7db4e51cbd2b",
   "metadata": {},
   "source": [
    "## Problema 1 (30 puntos)\n",
    "\n",
    "Se desea analizar los siguientes datos por medio de una perceptrón simple"
   ]
  },
  {
   "cell_type": "code",
   "execution_count": 1,
   "id": "507afbbd-3810-4ba9-af6c-d1c902be423f",
   "metadata": {},
   "outputs": [],
   "source": [
    "import pandas as pd"
   ]
  },
  {
   "cell_type": "code",
   "execution_count": 2,
   "id": "a41afbf7-d187-4327-9afb-59ce83cdeadc",
   "metadata": {},
   "outputs": [
    {
     "data": {
      "text/html": [
       "<div>\n",
       "<style scoped>\n",
       "    .dataframe tbody tr th:only-of-type {\n",
       "        vertical-align: middle;\n",
       "    }\n",
       "\n",
       "    .dataframe tbody tr th {\n",
       "        vertical-align: top;\n",
       "    }\n",
       "\n",
       "    .dataframe thead th {\n",
       "        text-align: right;\n",
       "    }\n",
       "</style>\n",
       "<table border=\"1\" class=\"dataframe\">\n",
       "  <thead>\n",
       "    <tr style=\"text-align: right;\">\n",
       "      <th></th>\n",
       "      <th>area</th>\n",
       "      <th>conjunto</th>\n",
       "      <th>valor</th>\n",
       "    </tr>\n",
       "  </thead>\n",
       "  <tbody>\n",
       "    <tr>\n",
       "      <th>0</th>\n",
       "      <td>52</td>\n",
       "      <td>margarita</td>\n",
       "      <td>95</td>\n",
       "    </tr>\n",
       "    <tr>\n",
       "      <th>1</th>\n",
       "      <td>65</td>\n",
       "      <td>girasol</td>\n",
       "      <td>130</td>\n",
       "    </tr>\n",
       "    <tr>\n",
       "      <th>2</th>\n",
       "      <td>47</td>\n",
       "      <td>girasol</td>\n",
       "      <td>108</td>\n",
       "    </tr>\n",
       "    <tr>\n",
       "      <th>3</th>\n",
       "      <td>57</td>\n",
       "      <td>margarita</td>\n",
       "      <td>126</td>\n",
       "    </tr>\n",
       "  </tbody>\n",
       "</table>\n",
       "</div>"
      ],
      "text/plain": [
       "   area   conjunto  valor\n",
       "0    52  margarita     95\n",
       "1    65    girasol    130\n",
       "2    47    girasol    108\n",
       "3    57  margarita    126"
      ]
     },
     "execution_count": 2,
     "metadata": {},
     "output_type": "execute_result"
    }
   ],
   "source": [
    "df = pd.DataFrame({\n",
    "    'area': [52, 65, 47, 57],\n",
    "    'conjunto': ['margarita','girasol','girasol','margarita'],\n",
    "    'valor': [95,130,108,126]\n",
    "})\n",
    "df"
   ]
  },
  {
   "cell_type": "code",
   "execution_count": 3,
   "id": "1f103ded-594b-4c3e-bd24-5ee385cecc60",
   "metadata": {},
   "outputs": [
    {
     "data": {
      "text/html": [
       "<div>\n",
       "<style scoped>\n",
       "    .dataframe tbody tr th:only-of-type {\n",
       "        vertical-align: middle;\n",
       "    }\n",
       "\n",
       "    .dataframe tbody tr th {\n",
       "        vertical-align: top;\n",
       "    }\n",
       "\n",
       "    .dataframe thead th {\n",
       "        text-align: right;\n",
       "    }\n",
       "</style>\n",
       "<table border=\"1\" class=\"dataframe\">\n",
       "  <thead>\n",
       "    <tr style=\"text-align: right;\">\n",
       "      <th></th>\n",
       "      <th>area</th>\n",
       "      <th>conjunto</th>\n",
       "      <th>valor</th>\n",
       "      <th>conjunto_num</th>\n",
       "    </tr>\n",
       "  </thead>\n",
       "  <tbody>\n",
       "    <tr>\n",
       "      <th>0</th>\n",
       "      <td>52</td>\n",
       "      <td>margarita</td>\n",
       "      <td>95</td>\n",
       "      <td>1</td>\n",
       "    </tr>\n",
       "    <tr>\n",
       "      <th>1</th>\n",
       "      <td>65</td>\n",
       "      <td>girasol</td>\n",
       "      <td>130</td>\n",
       "      <td>0</td>\n",
       "    </tr>\n",
       "    <tr>\n",
       "      <th>2</th>\n",
       "      <td>47</td>\n",
       "      <td>girasol</td>\n",
       "      <td>108</td>\n",
       "      <td>0</td>\n",
       "    </tr>\n",
       "    <tr>\n",
       "      <th>3</th>\n",
       "      <td>57</td>\n",
       "      <td>margarita</td>\n",
       "      <td>126</td>\n",
       "      <td>1</td>\n",
       "    </tr>\n",
       "  </tbody>\n",
       "</table>\n",
       "</div>"
      ],
      "text/plain": [
       "   area   conjunto  valor  conjunto_num\n",
       "0    52  margarita     95             1\n",
       "1    65    girasol    130             0\n",
       "2    47    girasol    108             0\n",
       "3    57  margarita    126             1"
      ]
     },
     "execution_count": 3,
     "metadata": {},
     "output_type": "execute_result"
    }
   ],
   "source": [
    "#categoria de la respuesta, vamos a apuntarle a girasol como cero \n",
    "df = df.assign(conjunto_num= df.conjunto.apply(lambda x: 1 if x=='margarita' else 0) )\n",
    "df"
   ]
  },
  {
   "cell_type": "markdown",
   "id": "ce588394-d0ad-487c-b8eb-f59f29033bf0",
   "metadata": {},
   "source": [
    "### a) escriba la ecuación de salida\n",
    "\n",
    "$z = f(0.1*area + 0.4*conjunto + 2*valor + 1) $\n",
    "\n",
    "donde \n",
    "\n",
    "$   f(x) = 1_{x>0}(x)  $ \n",
    "Es la función escalon "
   ]
  },
  {
   "cell_type": "markdown",
   "id": "c06d914b-7f21-438e-b464-8b74899435b5",
   "metadata": {},
   "source": [
    "### b)  Calcule el valor de salida de la neurona para los valores del problema, considerando tanto la funcion lineal y la funcion escalon como activación"
   ]
  },
  {
   "cell_type": "code",
   "execution_count": 4,
   "id": "d6ff7f06-0602-4f36-bbd1-e9fb8a91dc6b",
   "metadata": {},
   "outputs": [],
   "source": [
    "def calculo_z ( row):\n",
    "    b = 1\n",
    "    w = [0.1, 0.4, 2]\n",
    "    \n",
    "    z = w[0]*row.area +  w[1]*row.conjunto_num + w[2]*row.valor\n",
    "    z = z + b\n",
    "    #funcion escalon\n",
    "    if z > 0:\n",
    "        z = 1\n",
    "    else:\n",
    "        z = 0\n",
    "    return z"
   ]
  },
  {
   "cell_type": "code",
   "execution_count": 5,
   "id": "a9f69965-3713-492c-a8c7-d3421e0c77db",
   "metadata": {},
   "outputs": [
    {
     "data": {
      "text/html": [
       "<div>\n",
       "<style scoped>\n",
       "    .dataframe tbody tr th:only-of-type {\n",
       "        vertical-align: middle;\n",
       "    }\n",
       "\n",
       "    .dataframe tbody tr th {\n",
       "        vertical-align: top;\n",
       "    }\n",
       "\n",
       "    .dataframe thead th {\n",
       "        text-align: right;\n",
       "    }\n",
       "</style>\n",
       "<table border=\"1\" class=\"dataframe\">\n",
       "  <thead>\n",
       "    <tr style=\"text-align: right;\">\n",
       "      <th></th>\n",
       "      <th>area</th>\n",
       "      <th>conjunto</th>\n",
       "      <th>valor</th>\n",
       "      <th>conjunto_num</th>\n",
       "      <th>z</th>\n",
       "    </tr>\n",
       "  </thead>\n",
       "  <tbody>\n",
       "    <tr>\n",
       "      <th>0</th>\n",
       "      <td>52</td>\n",
       "      <td>margarita</td>\n",
       "      <td>95</td>\n",
       "      <td>1</td>\n",
       "      <td>1</td>\n",
       "    </tr>\n",
       "    <tr>\n",
       "      <th>1</th>\n",
       "      <td>65</td>\n",
       "      <td>girasol</td>\n",
       "      <td>130</td>\n",
       "      <td>0</td>\n",
       "      <td>1</td>\n",
       "    </tr>\n",
       "    <tr>\n",
       "      <th>2</th>\n",
       "      <td>47</td>\n",
       "      <td>girasol</td>\n",
       "      <td>108</td>\n",
       "      <td>0</td>\n",
       "      <td>1</td>\n",
       "    </tr>\n",
       "    <tr>\n",
       "      <th>3</th>\n",
       "      <td>57</td>\n",
       "      <td>margarita</td>\n",
       "      <td>126</td>\n",
       "      <td>1</td>\n",
       "      <td>1</td>\n",
       "    </tr>\n",
       "  </tbody>\n",
       "</table>\n",
       "</div>"
      ],
      "text/plain": [
       "   area   conjunto  valor  conjunto_num  z\n",
       "0    52  margarita     95             1  1\n",
       "1    65    girasol    130             0  1\n",
       "2    47    girasol    108             0  1\n",
       "3    57  margarita    126             1  1"
      ]
     },
     "execution_count": 5,
     "metadata": {},
     "output_type": "execute_result"
    }
   ],
   "source": [
    "df.assign(z = df.apply(calculo_z, axis=1))"
   ]
  },
  {
   "cell_type": "markdown",
   "id": "ffc0db97-237f-4d07-95ff-f80cf57f58bf",
   "metadata": {},
   "source": [
    "### c) Que se puede concluir de los valores obtenidos,\n",
    "\n",
    "**Respuesta**\n",
    "\n",
    "Dado que el sesgo es 1, y todos los valores dentro de los datos son positivos, podemos observar que el sesgo predispone a la neurona a activarse, independientemente del valor de los pesos. \n",
    "\n",
    "Si los pesos afectaran negativamente a la variable, podriamos ver un cambio adverso a la función de activación. "
   ]
  },
  {
   "cell_type": "markdown",
   "id": "5b9ea96c-eff3-4326-9bf7-eb3194e2f0a7",
   "metadata": {},
   "source": [
    "## 2) Problema 2 (30 puntos)\n",
    "\n",
    " Dado el siguiente problema\n",
    " \n",
    " Construya un perceptrón simple que permita resolver el problema y resuleva una\n",
    "época completa para ajustar los pesos\n",
    "\n",
    "**Nota:** una época es el recorrido completo de todos los ejemplos de entrenamientos"
   ]
  },
  {
   "cell_type": "code",
   "execution_count": 6,
   "id": "d53a5580-2503-4a09-895b-9992ec3bdda8",
   "metadata": {},
   "outputs": [
    {
     "data": {
      "text/html": [
       "<div>\n",
       "<style scoped>\n",
       "    .dataframe tbody tr th:only-of-type {\n",
       "        vertical-align: middle;\n",
       "    }\n",
       "\n",
       "    .dataframe tbody tr th {\n",
       "        vertical-align: top;\n",
       "    }\n",
       "\n",
       "    .dataframe thead th {\n",
       "        text-align: right;\n",
       "    }\n",
       "</style>\n",
       "<table border=\"1\" class=\"dataframe\">\n",
       "  <thead>\n",
       "    <tr style=\"text-align: right;\">\n",
       "      <th></th>\n",
       "      <th>x1</th>\n",
       "      <th>x2</th>\n",
       "      <th>y</th>\n",
       "    </tr>\n",
       "  </thead>\n",
       "  <tbody>\n",
       "    <tr>\n",
       "      <th>0</th>\n",
       "      <td>0</td>\n",
       "      <td>0</td>\n",
       "      <td>0</td>\n",
       "    </tr>\n",
       "    <tr>\n",
       "      <th>1</th>\n",
       "      <td>0</td>\n",
       "      <td>1</td>\n",
       "      <td>1</td>\n",
       "    </tr>\n",
       "    <tr>\n",
       "      <th>2</th>\n",
       "      <td>1</td>\n",
       "      <td>0</td>\n",
       "      <td>1</td>\n",
       "    </tr>\n",
       "    <tr>\n",
       "      <th>3</th>\n",
       "      <td>1</td>\n",
       "      <td>1</td>\n",
       "      <td>1</td>\n",
       "    </tr>\n",
       "  </tbody>\n",
       "</table>\n",
       "</div>"
      ],
      "text/plain": [
       "   x1  x2  y\n",
       "0   0   0  0\n",
       "1   0   1  1\n",
       "2   1   0  1\n",
       "3   1   1  1"
      ]
     },
     "execution_count": 6,
     "metadata": {},
     "output_type": "execute_result"
    }
   ],
   "source": [
    "df = pd.DataFrame({\n",
    "    'x1': [0,0,1,1],\n",
    "    'x2': [0,1,0,1],\n",
    "    'y': [0,1,1,1],\n",
    "})\n",
    "df"
   ]
  },
  {
   "cell_type": "code",
   "execution_count": 7,
   "id": "83a10be8-c1b3-4dd1-a1ad-4a83c60ffe92",
   "metadata": {},
   "outputs": [],
   "source": [
    "def perceptron_simple(x1,x2,y,b,w1,w2,alpha, n_sample):\n",
    "    cont=0\n",
    "    #error = True\n",
    "    #while error:\n",
    "    #    error = False\n",
    "    for i in range(n_sample):\n",
    "        z = ((x1[i] * w1)+(x2[i] * w2)) + b # calculamos z\n",
    "        #funcion escalón\n",
    "        z = z  # lineal\n",
    "      #verificación del error\n",
    "        if z != y[i]:\n",
    "            errores = True\n",
    "            # calcular errores\n",
    "            error = (y[i] - z)\n",
    "            # ajustar sesgo\n",
    "            b = b + ((alpha * error))\n",
    "            # ajustar pesos\n",
    "            w1 = w1 + (x1[i] * error * alpha)\n",
    "            w2 = w2 + (x2[i] * error * alpha)\n",
    "     #   cont=cont+1\n",
    "    return w1, w2, b, cont"
   ]
  },
  {
   "cell_type": "code",
   "execution_count": 8,
   "id": "44c8b5a2-e961-4953-b527-308acad7f80f",
   "metadata": {},
   "outputs": [],
   "source": [
    "w = [3,4]\n",
    "b= -7\n",
    "alpha = 1\n",
    "w1, w2, b, cont = perceptron_simple(x1= df.x1,\n",
    "                  x2= df.x2,\n",
    "                  y= df.y,\n",
    "                  b=b,\n",
    "                  w1 = w[0],\n",
    "                  w2 = w[1],\n",
    "                  alpha=alpha,\n",
    "                  n_sample= df.shape[0])"
   ]
  },
  {
   "cell_type": "code",
   "execution_count": 9,
   "id": "6311efb5-8533-44cc-ae56-a55dd91ef323",
   "metadata": {},
   "outputs": [
    {
     "name": "stdout",
     "output_type": "stream",
     "text": [
      "Los pesos obtenidos despues de la primera epoca son: [2, -1]\n",
      "El sesgo despues de la primera epoca es de -4\n"
     ]
    }
   ],
   "source": [
    "print(f'Los pesos obtenidos despues de la primera epoca son: {[w1,w2]}')\n",
    "print(f'El sesgo despues de la primera epoca es de {b}')"
   ]
  }
 ],
 "metadata": {
  "kernelspec": {
   "display_name": "Python 3 (ipykernel)",
   "language": "python",
   "name": "python3"
  },
  "language_info": {
   "codemirror_mode": {
    "name": "ipython",
    "version": 3
   },
   "file_extension": ".py",
   "mimetype": "text/x-python",
   "name": "python",
   "nbconvert_exporter": "python",
   "pygments_lexer": "ipython3",
   "version": "3.9.12"
  }
 },
 "nbformat": 4,
 "nbformat_minor": 5
}
