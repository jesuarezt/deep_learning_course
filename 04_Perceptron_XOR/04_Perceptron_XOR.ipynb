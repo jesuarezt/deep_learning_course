{
 "cells": [
  {
   "cell_type": "markdown",
   "id": "953a0d52",
   "metadata": {},
   "source": [
    "# Perceptron XOR (dos entradas - dos ocultas - una salida - función escalon)\n",
    "# clasificador"
   ]
  },
  {
   "cell_type": "code",
   "execution_count": 1,
   "id": "80e503af",
   "metadata": {},
   "outputs": [],
   "source": [
    "import pandas as pd\n",
    "import numpy as np\n",
    "import matplotlib.pyplot as plt"
   ]
  },
  {
   "cell_type": "code",
   "execution_count": 2,
   "id": "cdf14308",
   "metadata": {},
   "outputs": [],
   "source": [
    "def entrenar(b,fac_ap,w1,w2,x1,x2,y,n_muestras):\n",
    "    cont=0\n",
    "    errores = True\n",
    "    while errores:\n",
    "        errores = False\n",
    "        for i in range(n_muestras):\n",
    "            z = ((x1[i] * w1)+(x2[i] * w2)) + b # calculamos z\n",
    "            #funcion escalón\n",
    "            if z >= 0:\n",
    "                z = 1\n",
    "            else:\n",
    "                z = 0\n",
    "          #verificación del error\n",
    "            if z != y[i]:\n",
    "                errores = True\n",
    "                # calcular errores\n",
    "                error = (y[i] - z)\n",
    "                # ajustar sesgo\n",
    "                b = b + ((fac_ap * error))\n",
    "                # ajustar pesos\n",
    "                w1 = w1 + (x1[i] * error * fac_ap)\n",
    "                w2 = w2 + (x2[i] * error * fac_ap)\n",
    "        cont=cont+1\n",
    "    return w1, w2, b, cont"
   ]
  },
  {
   "cell_type": "markdown",
   "id": "3afcee55",
   "metadata": {},
   "source": [
    "# perceptron OR"
   ]
  },
  {
   "cell_type": "code",
   "execution_count": 3,
   "id": "3ded4adc",
   "metadata": {},
   "outputs": [
    {
     "name": "stdout",
     "output_type": "stream",
     "text": [
      "w1 =  1.7\n",
      "w2 =  1.5\n",
      "b =  -1\n",
      "i =  5\n"
     ]
    }
   ],
   "source": [
    "# Leer archivo excel \n",
    "archivo_excel = pd.read_excel(\"./or.xlsx\")\n",
    "b = 1\n",
    "fac_ap = 1\n",
    "w1 = 0.7\n",
    "w2 = 0.5\n",
    "x1 = archivo_excel[\"x1\"]\n",
    "x2 = archivo_excel[\"x2\"]\n",
    "y_or = archivo_excel[\"y\"]\n",
    "n_muestras = len(y_or)\n",
    "w1, w2, b, i  = entrenar(b,fac_ap,w1,w2,x1,x2,y_or,n_muestras)\n",
    "print (\"w1 = \", w1)\n",
    "print (\"w2 = \", w2)\n",
    "print (\"b = \", b)\n",
    "print (\"i = \", i)"
   ]
  },
  {
   "cell_type": "code",
   "execution_count": 4,
   "id": "45ccfc2c",
   "metadata": {},
   "outputs": [
    {
     "name": "stderr",
     "output_type": "stream",
     "text": [
      "/tmp/ipykernel_29102/1016322841.py:7: SettingWithCopyWarning: \n",
      "A value is trying to be set on a copy of a slice from a DataFrame\n",
      "\n",
      "See the caveats in the documentation: https://pandas.pydata.org/pandas-docs/stable/user_guide/indexing.html#returning-a-view-versus-a-copy\n",
      "  y_or[i] = 0\n",
      "/tmp/ipykernel_29102/1016322841.py:5: SettingWithCopyWarning: \n",
      "A value is trying to be set on a copy of a slice from a DataFrame\n",
      "\n",
      "See the caveats in the documentation: https://pandas.pydata.org/pandas-docs/stable/user_guide/indexing.html#returning-a-view-versus-a-copy\n",
      "  y_or[i] = 1\n"
     ]
    },
    {
     "data": {
      "text/plain": [
       "0    0\n",
       "1    1\n",
       "2    1\n",
       "3    1\n",
       "Name: y, dtype: int64"
      ]
     },
     "execution_count": 4,
     "metadata": {},
     "output_type": "execute_result"
    }
   ],
   "source": [
    "z=x1\n",
    "for i in x1:\n",
    "    z[i]=((x1[i]* w1)+(x2[i] * w2)) + b # calculamos z\n",
    "    if z[i] >= 0:\n",
    "        y_or[i] = 1\n",
    "    else:\n",
    "        y_or[i] = 0\n",
    "        \n",
    "y_or"
   ]
  },
  {
   "cell_type": "markdown",
   "id": "8253846c",
   "metadata": {},
   "source": [
    "# perceptron AND"
   ]
  },
  {
   "cell_type": "code",
   "execution_count": 5,
   "id": "8216a6c0",
   "metadata": {},
   "outputs": [
    {
     "name": "stdout",
     "output_type": "stream",
     "text": [
      "w1 =  5\n",
      "w2 =  1.5\n",
      "b =  -6\n",
      "i =  8\n"
     ]
    }
   ],
   "source": [
    "# Leer archivo excel \n",
    "archivo_excel = pd.read_excel(\"./and.xlsx\")\n",
    "b = 1\n",
    "fac_ap = 1\n",
    "w1 = 10\n",
    "w2 = 0.5\n",
    "x1 = archivo_excel[\"x1\"]\n",
    "x2 = archivo_excel[\"x2\"]\n",
    "y_and = archivo_excel[\"y\"]\n",
    "n_muestras = len(y_and)\n",
    "w1, w2, b, i  = entrenar(b,fac_ap,w1,w2,x1,x2,y_and,n_muestras)\n",
    "print (\"w1 = \", w1)\n",
    "print (\"w2 = \", w2)\n",
    "print (\"b = \", b)\n",
    "print (\"i = \", i)"
   ]
  },
  {
   "cell_type": "code",
   "execution_count": 6,
   "id": "843d5613",
   "metadata": {},
   "outputs": [
    {
     "name": "stderr",
     "output_type": "stream",
     "text": [
      "/tmp/ipykernel_29102/22286852.py:7: SettingWithCopyWarning: \n",
      "A value is trying to be set on a copy of a slice from a DataFrame\n",
      "\n",
      "See the caveats in the documentation: https://pandas.pydata.org/pandas-docs/stable/user_guide/indexing.html#returning-a-view-versus-a-copy\n",
      "  y_and[i] = 0\n"
     ]
    },
    {
     "data": {
      "text/plain": [
       "0    0\n",
       "1    0\n",
       "2    0\n",
       "3    1\n",
       "Name: y, dtype: int64"
      ]
     },
     "execution_count": 6,
     "metadata": {},
     "output_type": "execute_result"
    }
   ],
   "source": [
    "z=x1\n",
    "for i in x1:\n",
    "    z[i]=((x1[i]* w1)+(x2[i] * w2)) + b # calculamos z\n",
    "    if z[i] >= 0:\n",
    "        y_and[i] = 1\n",
    "    else:\n",
    "        y_and[i] = 0\n",
    "        \n",
    "y_and"
   ]
  },
  {
   "cell_type": "markdown",
   "id": "7f81295d",
   "metadata": {},
   "source": [
    "# perceptron XOR"
   ]
  },
  {
   "cell_type": "code",
   "execution_count": 7,
   "id": "b07e3ae7",
   "metadata": {},
   "outputs": [
    {
     "name": "stdout",
     "output_type": "stream",
     "text": [
      "w1 =  6\n",
      "w2 =  -3.5\n",
      "b =  -4\n",
      "i =  5\n"
     ]
    }
   ],
   "source": [
    "# Leer archivo excel \n",
    "archivo_excel = pd.read_excel(\"./xor.xlsx\")\n",
    "b = 1\n",
    "fac_ap = 1\n",
    "w1 = 10\n",
    "w2 = 0.5\n",
    "x1 = y_or\n",
    "x2 = y_and\n",
    "y = archivo_excel[\"y\"]\n",
    "n_muestras = len(y)\n",
    "w1, w2, b, i  = entrenar(b,fac_ap,w1,w2,x1,x2,y,n_muestras)\n",
    "print (\"w1 = \", w1)\n",
    "print (\"w2 = \", w2)\n",
    "print (\"b = \", b)\n",
    "print (\"i = \", i)"
   ]
  },
  {
   "cell_type": "markdown",
   "id": "a72879b9",
   "metadata": {},
   "source": [
    "# prueba"
   ]
  },
  {
   "cell_type": "code",
   "execution_count": 8,
   "id": "856835ad",
   "metadata": {},
   "outputs": [],
   "source": [
    "z=x1\n",
    "for i in x1:\n",
    "    z[i]=((x1[i]* w1)+(x2[i] * w2)) + b # calculamos z\n",
    "    if z[i] >= 0:\n",
    "        y[i] = 1\n",
    "    else:\n",
    "        y[i] = 0"
   ]
  },
  {
   "cell_type": "code",
   "execution_count": 9,
   "id": "a444e916",
   "metadata": {},
   "outputs": [
    {
     "data": {
      "text/plain": [
       "0    0\n",
       "1    1\n",
       "2    1\n",
       "3    0\n",
       "Name: y, dtype: int64"
      ]
     },
     "execution_count": 9,
     "metadata": {},
     "output_type": "execute_result"
    }
   ],
   "source": [
    "y.head()"
   ]
  },
  {
   "cell_type": "code",
   "execution_count": null,
   "id": "debf9f8a",
   "metadata": {},
   "outputs": [],
   "source": []
  }
 ],
 "metadata": {
  "kernelspec": {
   "display_name": "Python 3 (ipykernel)",
   "language": "python",
   "name": "python3"
  },
  "language_info": {
   "codemirror_mode": {
    "name": "ipython",
    "version": 3
   },
   "file_extension": ".py",
   "mimetype": "text/x-python",
   "name": "python",
   "nbconvert_exporter": "python",
   "pygments_lexer": "ipython3",
   "version": "3.9.7"
  }
 },
 "nbformat": 4,
 "nbformat_minor": 5
}
