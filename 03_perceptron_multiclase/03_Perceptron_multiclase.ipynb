{
 "cells": [
  {
   "cell_type": "markdown",
   "id": "f08316b3",
   "metadata": {},
   "source": [
    "# Perceptron multiclase\n"
   ]
  },
  {
   "cell_type": "markdown",
   "id": "5efb7b02",
   "metadata": {},
   "source": [
    "importar librerias"
   ]
  },
  {
   "cell_type": "code",
   "execution_count": 2,
   "id": "1bc5b03c",
   "metadata": {},
   "outputs": [],
   "source": [
    "from sklearn import datasets\n",
    "from sklearn.datasets import make_classification\n",
    "from sklearn.model_selection import train_test_split\n",
    "\n",
    "import matplotlib.pyplot as plt\n",
    "import random\n",
    "import numpy as np\n",
    "import pandas as pd\n",
    "import math"
   ]
  },
  {
   "cell_type": "markdown",
   "id": "9395148c",
   "metadata": {},
   "source": [
    "## Configuracion de los datos"
   ]
  },
  {
   "cell_type": "code",
   "execution_count": 3,
   "id": "bb21395a",
   "metadata": {},
   "outputs": [],
   "source": [
    "# Semilla\n",
    "np.random.seed(11)"
   ]
  },
  {
   "cell_type": "code",
   "execution_count": 4,
   "id": "691b93b6",
   "metadata": {},
   "outputs": [],
   "source": [
    "#funbcion de salida\n",
    "def one_hot(a):\n",
    "  b = -1 * np.ones((a.size, a.max()+1))\n",
    "  b[np.arange(a.size), a] = 1\n",
    "  return b"
   ]
  },
  {
   "cell_type": "code",
   "execution_count": 5,
   "id": "a3e8398c",
   "metadata": {},
   "outputs": [
    {
     "data": {
      "text/plain": [
       "<matplotlib.image.AxesImage at 0x7f4e574bf610>"
      ]
     },
     "execution_count": 5,
     "metadata": {},
     "output_type": "execute_result"
    },
    {
     "data": {
      "text/plain": [
       "<Figure size 432x288 with 0 Axes>"
      ]
     },
     "metadata": {},
     "output_type": "display_data"
    },
    {
     "data": {
      "image/png": "[encoded data removed]",
      "text/plain": [
       "<Figure size 288x288 with 1 Axes>"
      ]
     },
     "metadata": {
      "needs_background": "light"
     },
     "output_type": "display_data"
    }
   ],
   "source": [
    "# cargando el dataset de digitos\n",
    "digits = datasets.load_digits()\n",
    "plt.gray()\n",
    "plt.matshow(digits.images[1])"
   ]
  },
  {
   "cell_type": "code",
   "execution_count": 6,
   "id": "8db52133",
   "metadata": {},
   "outputs": [
    {
     "data": {
      "text/plain": [
       "array([-1.,  1., -1., -1., -1., -1., -1., -1., -1., -1.])"
      ]
     },
     "execution_count": 6,
     "metadata": {},
     "output_type": "execute_result"
    }
   ],
   "source": [
    "# Codificación one-hot de la etiqueta de destino, Y \n",
    "Y = digits.target\n",
    "Y = one_hot(Y)\n",
    "Y[1]"
   ]
  },
  {
   "cell_type": "code",
   "execution_count": 7,
   "id": "e60cb4d6",
   "metadata": {},
   "outputs": [],
   "source": [
    "# Agregar columna de unos para absorber el sesgo b del hiperplano en X \n",
    "X = digits.data\n",
    "bias_ones = np.ones((len(X), 1))\n",
    "X = np.hstack((X, bias_ones))"
   ]
  },
  {
   "cell_type": "code",
   "execution_count": 8,
   "id": "e98fa2ca",
   "metadata": {},
   "outputs": [],
   "source": [
    "# construccion de los datasets de entrenamiento, validacion y test\n",
    "X_train_val, X_test, Y_train_val, Y_test = train_test_split(X, Y, shuffle=True, test_size = 0.2)\n",
    "X_train, X_val, Y_train, Y_val = train_test_split(X_train_val, Y_train_val, test_size = 0.12517)"
   ]
  },
  {
   "cell_type": "code",
   "execution_count": 9,
   "id": "38ff2227",
   "metadata": {},
   "outputs": [
    {
     "name": "stdout",
     "output_type": "stream",
     "text": [
      "Training dataset:  (1257, 65)\n",
      "Validation dataset:  (180, 65)\n",
      "Test dataset:  (360, 65)\n"
     ]
    }
   ],
   "source": [
    "print(\"Training dataset: \", X_train.shape)\n",
    "print(\"Validation dataset: \", X_val.shape)\n",
    "print(\"Test dataset: \", X_test.shape)\n"
   ]
  },
  {
   "cell_type": "code",
   "execution_count": 10,
   "id": "6b420f98",
   "metadata": {},
   "outputs": [
    {
     "data": {
      "text/plain": [
       "<Figure size 432x288 with 0 Axes>"
      ]
     },
     "metadata": {},
     "output_type": "display_data"
    },
    {
     "data": {
      "image/png": "[encoded data removed]",
      "text/plain": [
       "<Figure size 288x288 with 1 Axes>"
      ]
     },
     "metadata": {
      "needs_background": "light"
     },
     "output_type": "display_data"
    },
    {
     "data": {
      "image/png": "[encoded data removed]",
      "text/plain": [
       "<Figure size 288x288 with 1 Axes>"
      ]
     },
     "metadata": {
      "needs_background": "light"
     },
     "output_type": "display_data"
    }
   ],
   "source": [
    "#impresion de 2 digitos de muestra \n",
    "plt.gray()\n",
    "for i in range(2):\n",
    "    plt.matshow(digits.images[i])\n",
    "plt.show();"
   ]
  },
  {
   "cell_type": "code",
   "execution_count": 11,
   "id": "bca2ab84",
   "metadata": {},
   "outputs": [],
   "source": [
    "#Aquí definimos una función signum\n",
    "def signum(x):\n",
    "    if x >=0: return 1\n",
    "    else : return -1"
   ]
  },
  {
   "cell_type": "code",
   "execution_count": 12,
   "id": "df630e6a",
   "metadata": {},
   "outputs": [],
   "source": [
    "#funcion general del perceptron\n",
    "\n",
    "def Perceptron(X_train,Y_train,epochs,lr):\n",
    "    epoch = 1\n",
    "    m = 1\n",
    "    # One vs Rest es un problema de clasificación de dos clases \n",
    "    \n",
    "    w = np.zeros((X_train.shape[1],1))     #Inicializando los pesos como 0 \n",
    "    \n",
    "    #Iterando hasta que se alcanzan las iteraciones (épocas) o cuando el error se convierte en 0 \n",
    "    while(m!=0 and epoch <= epochs):       \n",
    "        m = 0 \n",
    "        for xi,yi in zip(X_train,Y_train):  # Iterando sobre cada muestra y la etiqueta de clase correspondiente\n",
    "            y_hat = signum(np.dot(w.T,xi)[0]) \n",
    "                                            \n",
    "            if yi*y_hat <0:                 #Condición para muestras mal clasificadas \n",
    "                w = (w.T + yi*xi).T         ##Actualización de pesos\n",
    "                m = m + 1                   #Conteo de errores de actualización \n",
    "        epoch = epoch + 1                   #Incremento de la iteracion (época)\n",
    "    return w,m"
   ]
  },
  {
   "cell_type": "markdown",
   "id": "e8ecaea4",
   "metadata": {},
   "source": [
    "## entrenamiento del modelo"
   ]
  },
  {
   "cell_type": "code",
   "execution_count": 13,
   "id": "339f584c",
   "metadata": {},
   "outputs": [],
   "source": [
    "# Definición de una matriz de peso (Número_de_características * Número de clases) para almacenar cada vector de peso \n",
    "weights = np.zeros((X_train.shape[1],Y_train.shape[1])) "
   ]
  },
  {
   "cell_type": "code",
   "execution_count": 14,
   "id": "79dfbf53",
   "metadata": {},
   "outputs": [],
   "source": [
    "for i in range(Y_train.shape[1]):\n",
    "    w,err = Perceptron(X_train,Y_train[:,i],100,1)  #Obtener el vector de peso \n",
    "    weights[:,i] = w[:,0]                           ##Almacenamiento en la matriz de peso "
   ]
  },
  {
   "cell_type": "markdown",
   "id": "4f39e433",
   "metadata": {},
   "source": [
    "## Ajustar el modelo en la validación y luego probar los conjuntos de datos "
   ]
  },
  {
   "cell_type": "code",
   "execution_count": 15,
   "id": "eab5da10",
   "metadata": {},
   "outputs": [],
   "source": [
    "#Predecir las clases en base a los vectores de peso \n",
    "\n",
    "def predictclass(X_fit,Y_fit,weights):\n",
    "    predictedclass = np.zeros(X_fit.shape[0])\n",
    "    for i in range(X_fit.shape[0]):\n",
    "        for j in range(Y_fit.shape[1]):\n",
    "            predict = np.dot(weights[:,j],X_fit[i,:]) #Predicción por muestreo \n",
    "            if predict >0:\n",
    "                predictedclass[i] = j\n",
    "                break\n",
    "    return predictedclass     #Función para encontrar la precisión "
   ]
  },
  {
   "cell_type": "code",
   "execution_count": 16,
   "id": "579e752f",
   "metadata": {},
   "outputs": [],
   "source": [
    "def accuracy(Y_val,predictedclass):\n",
    "    error = 0\n",
    "    numsamples = Y_val.shape[0]\n",
    "    for i in range(numsamples):\n",
    "        Actualclass = Y_val[i,:]\n",
    "        if Actualclass[int(predictedclass[i])]!=1.0:\n",
    "             error+=1\n",
    "    return (1-error/numsamples)          #Array de clase predicha para el conjunto de validación \n"
   ]
  },
  {
   "cell_type": "markdown",
   "id": "c7a40045",
   "metadata": {},
   "source": [
    "## Búsqueda de precisiones "
   ]
  },
  {
   "cell_type": "code",
   "execution_count": 17,
   "id": "4af73eac",
   "metadata": {},
   "outputs": [
    {
     "data": {
      "text/plain": [
       "91.11111111111111"
      ]
     },
     "execution_count": 17,
     "metadata": {},
     "output_type": "execute_result"
    }
   ],
   "source": [
    "#Precisión para el conjunto de validación \n",
    "predictedclass = predictclass(X_val,Y_val,weights)\n",
    "accuracy(Y_val,predictedclass) * 100"
   ]
  },
  {
   "cell_type": "code",
   "execution_count": 18,
   "id": "19358271",
   "metadata": {},
   "outputs": [
    {
     "data": {
      "text/plain": [
       "89.44444444444444"
      ]
     },
     "execution_count": 18,
     "metadata": {},
     "output_type": "execute_result"
    }
   ],
   "source": [
    "#Array de clase predicha para el conjunto de prueba \n",
    "predictedclass = predictclass(X_test,Y_test,weights)#Precisión para el conjunto de prueba \n",
    "accuracy(Y_test,predictedclass) * 100"
   ]
  },
  {
   "cell_type": "code",
   "execution_count": 19,
   "id": "cdb97e83",
   "metadata": {},
   "outputs": [
    {
     "data": {
      "text/plain": [
       "92.76054097056483"
      ]
     },
     "execution_count": 19,
     "metadata": {},
     "output_type": "execute_result"
    }
   ],
   "source": [
    "#Array de clase predicha para el conjunto de entrenamiento \n",
    "predictedclass = predictclass(X_train,Y_train,weights)#Precisión para el conjunto de prueba \n",
    "accuracy(Y_train,predictedclass) * 100"
   ]
  },
  {
   "cell_type": "markdown",
   "id": "044f7e7b",
   "metadata": {},
   "source": [
    "# Prueba"
   ]
  },
  {
   "cell_type": "code",
   "execution_count": 20,
   "id": "29434661",
   "metadata": {},
   "outputs": [
    {
     "data": {
      "text/plain": [
       "array([ 0.,  0.,  2., 13.,  8.,  0.,  0.,  0.,  0.,  0.,  6., 16., 16.,\n",
       "        6.,  0.,  0.,  0.,  0.,  5., 15., 13., 11.,  0.,  0.,  0.,  0.,\n",
       "        0.,  7., 16., 15.,  0.,  0.,  0.,  0.,  0.,  0.,  0., 14.,  3.,\n",
       "        0.,  0.,  0.,  0.,  0.,  0.,  7., 11.,  0.,  0.,  0.,  0.,  3.,\n",
       "        4.,  4., 16.,  2.,  0.,  0.,  2., 15., 13., 14., 13.,  2.,  1.])"
      ]
     },
     "execution_count": 20,
     "metadata": {},
     "output_type": "execute_result"
    }
   ],
   "source": [
    "X_train[15]"
   ]
  },
  {
   "cell_type": "code",
   "execution_count": 21,
   "id": "364e086e",
   "metadata": {},
   "outputs": [
    {
     "data": {
      "text/plain": [
       "array([-1., -1., -1., -1., -1., -1., -1., -1., -1.,  1.])"
      ]
     },
     "execution_count": 21,
     "metadata": {},
     "output_type": "execute_result"
    }
   ],
   "source": [
    "Y_train[15]"
   ]
  },
  {
   "cell_type": "code",
   "execution_count": 22,
   "id": "ff1a2989",
   "metadata": {},
   "outputs": [
    {
     "data": {
      "text/plain": [
       "9.0"
      ]
     },
     "execution_count": 22,
     "metadata": {},
     "output_type": "execute_result"
    }
   ],
   "source": [
    "predictedclass[15]"
   ]
  },
  {
   "cell_type": "code",
   "execution_count": null,
   "id": "5c87e515",
   "metadata": {},
   "outputs": [],
   "source": []
  },
  {
   "cell_type": "code",
   "execution_count": null,
   "id": "5fcb3e05",
   "metadata": {},
   "outputs": [],
   "source": []
  }
 ],
 "metadata": {
  "kernelspec": {
   "display_name": "Python 3 (ipykernel)",
   "language": "python",
   "name": "python3"
  },
  "language_info": {
   "codemirror_mode": {
    "name": "ipython",
    "version": 3
   },
   "file_extension": ".py",
   "mimetype": "text/x-python",
   "name": "python",
   "nbconvert_exporter": "python",
   "pygments_lexer": "ipython3",
   "version": "3.9.7"
  }
 },
 "nbformat": 4,
 "nbformat_minor": 5
}
